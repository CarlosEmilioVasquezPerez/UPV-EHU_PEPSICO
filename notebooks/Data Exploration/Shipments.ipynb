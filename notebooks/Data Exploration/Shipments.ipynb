{
 "cells": [
  {
   "cell_type": "markdown",
   "id": "1d069e84-6b6e-4da9-9e00-8fd0fee9d774",
   "metadata": {},
   "source": [
    "# Data Explodation\n",
    "Notebook for exploring the problem in the input data"
   ]
  },
  {
   "cell_type": "code",
   "execution_count": 50,
   "id": "665587f5-0996-47ae-8590-8b61a2ee070e",
   "metadata": {},
   "outputs": [],
   "source": [
    "import pandas as pd\n",
    "import numpy as np\n",
    "import plotly.graph_objects as go"
   ]
  },
  {
   "cell_type": "markdown",
   "id": "6cad3d46-d79c-4501-bb23-1fd376df1b6f",
   "metadata": {},
   "source": [
    "# Shipments"
   ]
  },
  {
   "cell_type": "code",
   "execution_count": 40,
   "id": "a5631719-fdcb-4bca-943a-e45f7122e919",
   "metadata": {},
   "outputs": [],
   "source": [
    "df = pd.read_csv('../data/01_raw/shipments.csv')\n",
    "df['time_var'] = pd.to_datetime(df['time_var']) # Change to timestamp"
   ]
  },
  {
   "cell_type": "markdown",
   "id": "48a866e6-4ff9-41d2-b355-a54189d396a1",
   "metadata": {},
   "source": [
    "### columns"
   ]
  },
  {
   "cell_type": "code",
   "execution_count": 41,
   "id": "c3aa034b-73bc-48a3-b957-a4989f8a1671",
   "metadata": {},
   "outputs": [
    {
     "data": {
      "text/plain": [
       "['prod_code', 'customer', 'location', 'category', 'time_var', 'shipments']"
      ]
     },
     "execution_count": 41,
     "metadata": {},
     "output_type": "execute_result"
    }
   ],
   "source": [
    "df.columns.to_list()"
   ]
  },
  {
   "cell_type": "markdown",
   "id": "c03e9592-39d1-4a7c-9d7c-ba8d3ef0180a",
   "metadata": {},
   "source": [
    "### customer"
   ]
  },
  {
   "cell_type": "code",
   "execution_count": 42,
   "id": "043b3ac8-f6b8-4983-927a-1435fdce9eae",
   "metadata": {},
   "outputs": [
    {
     "data": {
      "text/plain": [
       "0            ALDI\n",
       "155          lidl\n",
       "310          LIDL\n",
       "464            bm\n",
       "618        EROSKI\n",
       "926          aldi\n",
       "1082       Eroski\n",
       "2718           BM\n",
       "2874    Mercadona\n",
       "3647       eroski\n",
       "Name: customer, dtype: object"
      ]
     },
     "execution_count": 42,
     "metadata": {},
     "output_type": "execute_result"
    }
   ],
   "source": [
    "df['customer'].drop_duplicates()"
   ]
  },
  {
   "cell_type": "markdown",
   "id": "2b3fb708-c365-4f0a-9e5f-79df880e2427",
   "metadata": {},
   "source": [
    "### location"
   ]
  },
  {
   "cell_type": "code",
   "execution_count": 43,
   "id": "c3616dcf-2f9e-4cbb-966d-7e10d17a60a1",
   "metadata": {},
   "outputs": [
    {
     "data": {
      "text/plain": [
       "0      sansebastian\n",
       "310         Vitoria\n",
       "464          bilbao\n",
       "Name: location, dtype: object"
      ]
     },
     "execution_count": 43,
     "metadata": {},
     "output_type": "execute_result"
    }
   ],
   "source": [
    "df['location'].drop_duplicates()"
   ]
  },
  {
   "cell_type": "markdown",
   "id": "869bff87-453a-4fdd-ade4-031cb8c7be1f",
   "metadata": {},
   "source": [
    "### Number of datapoint\n",
    "Let's count the number of shipments"
   ]
  },
  {
   "cell_type": "code",
   "execution_count": 44,
   "id": "3b4e704e-9dae-4d5d-aef6-503b149e52a5",
   "metadata": {},
   "outputs": [
    {
     "data": {
      "text/plain": [
       "prod_code  customer   location    \n",
       "5069_01    Mercadona  sansebastian    156\n",
       "6860_07    Mercadona  Vitoria         156\n",
       "2093_01    Mercadona  bilbao          156\n",
       "2241_05    LIDL       sansebastian    156\n",
       "2441_04    LIDL       sansebastian    156\n",
       "9340_08    LIDL       sansebastian    156\n",
       "2496_04    LIDL       Vitoria         156\n",
       "6258_07    ALDI       bilbao          156\n",
       "3590_01    EROSKI     Vitoria         156\n",
       "3677_04    aldi       Vitoria         156\n",
       "5848_02    EROSKI     Vitoria         156\n",
       "7638_05    lidl       sansebastian    156\n",
       "8526_03    LIDL       bilbao          156\n",
       "1466_03    BM         sansebastian    156\n",
       "9876_02    bm         bilbao          155\n",
       "6250_05    Eroski     bilbao          155\n",
       "8684_05    ALDI       sansebastian    155\n",
       "4758_08    Mercadona  Vitoria         155\n",
       "8684_05    lidl       sansebastian    155\n",
       "3735_01    LIDL       Vitoria         155\n",
       "3186_03    lidl       sansebastian    155\n",
       "1522_03    Eroski     Vitoria         155\n",
       "4888_03    bm         bilbao          154\n",
       "4417_02    ALDI       sansebastian    154\n",
       "8075_05    Eroski     Vitoria         154\n",
       "6213_03    LIDL       Vitoria         154\n",
       "7196_04    aldi       Vitoria         154\n",
       "5693_05    lidl       sansebastian    152\n",
       "4266_08    eroski     bilbao          152\n",
       "3954_08    bm         bilbao          151\n",
       "1424_01    lidl       bilbao          151\n",
       "8814_04    Mercadona  sansebastian    150\n",
       "7694_02    EROSKI     Vitoria         134\n",
       "5845_07    aldi       bilbao          131\n",
       "6009_01    lidl       Vitoria          71\n",
       "2493_07    ALDI       Vitoria          62\n",
       "Name: count, dtype: int64"
      ]
     },
     "execution_count": 44,
     "metadata": {},
     "output_type": "execute_result"
    }
   ],
   "source": [
    "df[['prod_code', 'customer', 'location']].value_counts()"
   ]
  },
  {
   "cell_type": "code",
   "execution_count": 81,
   "id": "d004697f-4295-4ea1-ae95-f0df7ef1a653",
   "metadata": {},
   "outputs": [
    {
     "name": "stderr",
     "output_type": "stream",
     "text": [
      "/home/pepsico/.local/lib/python3.10/site-packages/_plotly_utils/basevalidators.py:105: FutureWarning:\n",
      "\n",
      "The behavior of DatetimeProperties.to_pydatetime is deprecated, in a future version this will return a Series containing python datetime objects instead of an ndarray. To retain the old behavior, call `np.array` on the result\n",
      "\n"
     ]
    },
    {
     "data": {
      "application/vnd.plotly.v1+json": {
       "config": {
        "plotlyServerURL": "https://plot.ly"
       },
       "data": [
        {
         "mode": "lines+text+markers",
         "name": "Incorrect",
         "type": "scatter",
         "x": [
          "2021-02-08T00:00:00+00:00",
          "2021-02-15T00:00:00+00:00",
          "2021-03-01T00:00:00+00:00",
          "2021-03-15T00:00:00+00:00",
          "2021-04-05T00:00:00+00:00",
          "2021-04-12T00:00:00+00:00",
          "2021-05-31T00:00:00+00:00",
          "2021-06-21T00:00:00+00:00",
          "2021-06-28T00:00:00+00:00",
          "2021-07-26T00:00:00+00:00",
          "2021-08-16T00:00:00+00:00",
          "2021-08-23T00:00:00+00:00",
          "2021-11-15T00:00:00+00:00",
          "2021-11-22T00:00:00+00:00",
          "2021-11-29T00:00:00+00:00",
          "2021-12-20T00:00:00+00:00",
          "2021-12-27T00:00:00+00:00",
          "2022-01-24T00:00:00+00:00",
          "2022-01-31T00:00:00+00:00",
          "2022-02-14T00:00:00+00:00",
          "2022-02-21T00:00:00+00:00",
          "2022-03-07T00:00:00+00:00",
          "2022-03-14T00:00:00+00:00",
          "2022-03-28T00:00:00+00:00",
          "2022-04-11T00:00:00+00:00",
          "2022-05-02T00:00:00+00:00",
          "2022-05-09T00:00:00+00:00",
          "2022-05-16T00:00:00+00:00",
          "2022-05-23T00:00:00+00:00",
          "2022-05-30T00:00:00+00:00",
          "2022-06-20T00:00:00+00:00",
          "2022-07-11T00:00:00+00:00",
          "2022-07-25T00:00:00+00:00",
          "2022-08-01T00:00:00+00:00",
          "2022-08-15T00:00:00+00:00",
          "2022-08-22T00:00:00+00:00",
          "2022-09-05T00:00:00+00:00",
          "2022-09-12T00:00:00+00:00",
          "2022-09-19T00:00:00+00:00",
          "2022-09-26T00:00:00+00:00",
          "2022-10-03T00:00:00+00:00",
          "2022-10-10T00:00:00+00:00",
          "2022-10-17T00:00:00+00:00",
          "2022-10-24T00:00:00+00:00",
          "2022-10-31T00:00:00+00:00",
          "2022-11-07T00:00:00+00:00",
          "2022-11-14T00:00:00+00:00",
          "2022-11-21T00:00:00+00:00",
          "2022-11-28T00:00:00+00:00",
          "2022-12-12T00:00:00+00:00",
          "2023-02-13T00:00:00+00:00",
          "2023-03-13T00:00:00+00:00",
          "2023-04-24T00:00:00+00:00",
          "2023-05-15T00:00:00+00:00",
          "2023-06-12T00:00:00+00:00",
          "2023-06-26T00:00:00+00:00",
          "2023-07-10T00:00:00+00:00",
          "2023-07-24T00:00:00+00:00",
          "2023-08-21T00:00:00+00:00",
          "2023-09-04T00:00:00+00:00",
          "2023-09-18T00:00:00+00:00",
          "2023-10-02T00:00:00+00:00"
         ],
         "y": [
          825122,
          550082,
          905277,
          603518,
          905277,
          603518,
          1207036,
          905277,
          1207036,
          905277,
          1207036,
          905277,
          905277,
          603518,
          603518,
          603518,
          603518,
          603518,
          603518,
          1207036,
          603518,
          1042012,
          1042012,
          694675,
          694675,
          650668,
          1042012,
          1042012,
          694675,
          694675,
          694675,
          1389349,
          694675,
          694675,
          694675,
          694675,
          694675,
          694675,
          694675,
          694675,
          694675,
          694675,
          694675,
          694675,
          694675,
          694675,
          694675,
          694675,
          694675,
          1389349,
          1791694,
          1075016,
          1791694,
          1791694,
          1791694,
          1433355,
          1433355,
          1433355,
          1433355,
          1433355,
          1433355,
          1433355
         ]
        },
        {
         "mode": "lines+text+markers",
         "name": "Correct",
         "type": "scatter",
         "x": [
          "2020-10-19T00:00:00+00:00",
          "2020-10-26T00:00:00+00:00",
          "2020-11-02T00:00:00+00:00",
          "2020-11-09T00:00:00+00:00",
          "2020-11-16T00:00:00+00:00",
          "2020-11-23T00:00:00+00:00",
          "2020-11-30T00:00:00+00:00",
          "2020-12-07T00:00:00+00:00",
          "2020-12-14T00:00:00+00:00",
          "2020-12-21T00:00:00+00:00",
          "2020-12-28T00:00:00+00:00",
          "2021-01-04T00:00:00+00:00",
          "2021-01-11T00:00:00+00:00",
          "2021-01-18T00:00:00+00:00",
          "2021-01-25T00:00:00+00:00",
          "2021-02-01T00:00:00+00:00",
          "2021-02-08T00:00:00+00:00",
          "2021-02-15T00:00:00+00:00",
          "2021-02-22T00:00:00+00:00",
          "2021-03-01T00:00:00+00:00",
          "2021-03-08T00:00:00+00:00",
          "2021-03-15T00:00:00+00:00",
          "2021-03-22T00:00:00+00:00",
          "2021-03-29T00:00:00+00:00",
          "2021-04-05T00:00:00+00:00",
          "2021-04-12T00:00:00+00:00",
          "2021-04-19T00:00:00+00:00",
          "2021-04-26T00:00:00+00:00",
          "2021-05-03T00:00:00+00:00",
          "2021-05-10T00:00:00+00:00",
          "2021-05-17T00:00:00+00:00",
          "2021-05-24T00:00:00+00:00",
          "2021-05-31T00:00:00+00:00",
          "2021-06-07T00:00:00+00:00",
          "2021-06-14T00:00:00+00:00",
          "2021-06-21T00:00:00+00:00",
          "2021-06-28T00:00:00+00:00",
          "2021-07-05T00:00:00+00:00",
          "2021-07-12T00:00:00+00:00",
          "2021-07-19T00:00:00+00:00",
          "2021-07-26T00:00:00+00:00",
          "2021-08-02T00:00:00+00:00",
          "2021-08-09T00:00:00+00:00",
          "2021-08-16T00:00:00+00:00",
          "2021-08-23T00:00:00+00:00",
          "2021-08-30T00:00:00+00:00",
          "2021-09-06T00:00:00+00:00",
          "2021-09-13T00:00:00+00:00",
          "2021-09-20T00:00:00+00:00",
          "2021-09-27T00:00:00+00:00",
          "2021-10-04T00:00:00+00:00",
          "2021-10-11T00:00:00+00:00",
          "2021-10-18T00:00:00+00:00",
          "2021-10-25T00:00:00+00:00",
          "2021-11-01T00:00:00+00:00",
          "2021-11-08T00:00:00+00:00",
          "2021-11-15T00:00:00+00:00",
          "2021-11-22T00:00:00+00:00",
          "2021-11-29T00:00:00+00:00",
          "2021-12-06T00:00:00+00:00",
          "2021-12-13T00:00:00+00:00",
          "2021-12-20T00:00:00+00:00",
          "2021-12-27T00:00:00+00:00",
          "2022-01-03T00:00:00+00:00",
          "2022-01-10T00:00:00+00:00",
          "2022-01-17T00:00:00+00:00",
          "2022-01-24T00:00:00+00:00",
          "2022-01-31T00:00:00+00:00",
          "2022-02-07T00:00:00+00:00",
          "2022-02-14T00:00:00+00:00",
          "2022-02-21T00:00:00+00:00",
          "2022-02-28T00:00:00+00:00",
          "2022-03-07T00:00:00+00:00",
          "2022-03-14T00:00:00+00:00",
          "2022-03-21T00:00:00+00:00",
          "2022-03-28T00:00:00+00:00",
          "2022-04-04T00:00:00+00:00",
          "2022-04-11T00:00:00+00:00",
          "2022-04-18T00:00:00+00:00",
          "2022-04-25T00:00:00+00:00",
          "2022-05-02T00:00:00+00:00",
          "2022-05-09T00:00:00+00:00",
          "2022-05-16T00:00:00+00:00",
          "2022-05-23T00:00:00+00:00",
          "2022-05-30T00:00:00+00:00",
          "2022-06-06T00:00:00+00:00",
          "2022-06-13T00:00:00+00:00",
          "2022-06-20T00:00:00+00:00",
          "2022-06-27T00:00:00+00:00",
          "2022-07-04T00:00:00+00:00",
          "2022-07-11T00:00:00+00:00",
          "2022-07-18T00:00:00+00:00",
          "2022-07-25T00:00:00+00:00",
          "2022-08-01T00:00:00+00:00",
          "2022-08-08T00:00:00+00:00",
          "2022-08-15T00:00:00+00:00",
          "2022-08-22T00:00:00+00:00",
          "2022-08-29T00:00:00+00:00",
          "2022-09-05T00:00:00+00:00",
          "2022-09-12T00:00:00+00:00",
          "2022-09-19T00:00:00+00:00",
          "2022-09-26T00:00:00+00:00",
          "2022-10-03T00:00:00+00:00",
          "2022-10-10T00:00:00+00:00",
          "2022-10-17T00:00:00+00:00",
          "2022-10-24T00:00:00+00:00",
          "2022-10-31T00:00:00+00:00",
          "2022-11-07T00:00:00+00:00",
          "2022-11-14T00:00:00+00:00",
          "2022-11-21T00:00:00+00:00",
          "2022-11-28T00:00:00+00:00",
          "2022-12-05T00:00:00+00:00",
          "2022-12-12T00:00:00+00:00",
          "2022-12-19T00:00:00+00:00",
          "2022-12-26T00:00:00+00:00",
          "2023-01-02T00:00:00+00:00",
          "2023-01-09T00:00:00+00:00",
          "2023-01-16T00:00:00+00:00",
          "2023-01-23T00:00:00+00:00",
          "2023-01-30T00:00:00+00:00",
          "2023-02-06T00:00:00+00:00",
          "2023-02-13T00:00:00+00:00",
          "2023-02-20T00:00:00+00:00",
          "2023-02-27T00:00:00+00:00",
          "2023-03-06T00:00:00+00:00",
          "2023-03-13T00:00:00+00:00",
          "2023-03-20T00:00:00+00:00",
          "2023-03-27T00:00:00+00:00",
          "2023-04-03T00:00:00+00:00",
          "2023-04-10T00:00:00+00:00",
          "2023-04-17T00:00:00+00:00",
          "2023-04-24T00:00:00+00:00",
          "2023-05-01T00:00:00+00:00",
          "2023-05-08T00:00:00+00:00",
          "2023-05-15T00:00:00+00:00",
          "2023-05-22T00:00:00+00:00",
          "2023-05-29T00:00:00+00:00",
          "2023-06-05T00:00:00+00:00",
          "2023-06-12T00:00:00+00:00",
          "2023-06-19T00:00:00+00:00",
          "2023-06-26T00:00:00+00:00",
          "2023-07-03T00:00:00+00:00",
          "2023-07-10T00:00:00+00:00",
          "2023-07-17T00:00:00+00:00",
          "2023-07-24T00:00:00+00:00",
          "2023-07-31T00:00:00+00:00",
          "2023-08-07T00:00:00+00:00",
          "2023-08-14T00:00:00+00:00",
          "2023-08-21T00:00:00+00:00",
          "2023-08-28T00:00:00+00:00",
          "2023-09-04T00:00:00+00:00",
          "2023-09-11T00:00:00+00:00",
          "2023-09-18T00:00:00+00:00",
          "2023-09-25T00:00:00+00:00",
          "2023-10-02T00:00:00+00:00",
          "2023-10-09T00:00:00+00:00"
         ],
         "y": [
          424899,
          540495,
          452246,
          462442,
          516311,
          498806,
          558785,
          404251,
          370382,
          437217,
          322172,
          469927,
          497942,
          414232,
          478984,
          632339,
          602006,
          558530,
          536546,
          454211,
          579433,
          574757,
          566781,
          236202,
          438769,
          615247,
          542302,
          617565,
          441578,
          492009,
          654165,
          636032,
          465055,
          550436,
          742728,
          555760,
          377140,
          628036,
          721629,
          731412,
          622084,
          891545,
          721157,
          634107,
          588607,
          557292,
          621023,
          477707,
          546762,
          432502,
          427276,
          510044,
          632574,
          691590,
          362052,
          509671,
          518413,
          696403,
          649745,
          311111,
          728740,
          401933,
          567233,
          425823,
          522676,
          499376,
          676954,
          570297,
          486980,
          544974,
          490496,
          541045,
          546447,
          54066,
          631710,
          952289,
          802039,
          277320,
          754869,
          812569,
          641474,
          709939,
          811881,
          731864,
          993742,
          783690,
          571555,
          676129,
          565610,
          682887,
          789383,
          795654,
          818632,
          831126,
          797650,
          800023,
          750563,
          687791,
          810742,
          551575,
          631588,
          612838,
          675893,
          219813,
          636818,
          568073,
          456517,
          885085,
          374170,
          544994,
          460041,
          499812,
          701060,
          370304,
          674962,
          465028,
          783525,
          620728,
          539088,
          696380,
          477239,
          546679,
          586403,
          598627,
          683850,
          706010,
          653756,
          871317,
          761435,
          874441,
          1588160,
          969118,
          630995,
          277925,
          243294,
          220945,
          256967,
          277140,
          324549,
          380091,
          329719,
          406393,
          511199,
          399234,
          252276,
          413237,
          289956,
          263277,
          272063,
          359738,
          353341,
          333641,
          278923,
          224332,
          205503,
          77657
         ]
        }
       ],
       "layout": {
        "autosize": true,
        "template": {
         "data": {
          "bar": [
           {
            "error_x": {
             "color": "#2a3f5f"
            },
            "error_y": {
             "color": "#2a3f5f"
            },
            "marker": {
             "line": {
              "color": "#E5ECF6",
              "width": 0.5
             },
             "pattern": {
              "fillmode": "overlay",
              "size": 10,
              "solidity": 0.2
             }
            },
            "type": "bar"
           }
          ],
          "barpolar": [
           {
            "marker": {
             "line": {
              "color": "#E5ECF6",
              "width": 0.5
             },
             "pattern": {
              "fillmode": "overlay",
              "size": 10,
              "solidity": 0.2
             }
            },
            "type": "barpolar"
           }
          ],
          "carpet": [
           {
            "aaxis": {
             "endlinecolor": "#2a3f5f",
             "gridcolor": "white",
             "linecolor": "white",
             "minorgridcolor": "white",
             "startlinecolor": "#2a3f5f"
            },
            "baxis": {
             "endlinecolor": "#2a3f5f",
             "gridcolor": "white",
             "linecolor": "white",
             "minorgridcolor": "white",
             "startlinecolor": "#2a3f5f"
            },
            "type": "carpet"
           }
          ],
          "choropleth": [
           {
            "colorbar": {
             "outlinewidth": 0,
             "ticks": ""
            },
            "type": "choropleth"
           }
          ],
          "contour": [
           {
            "colorbar": {
             "outlinewidth": 0,
             "ticks": ""
            },
            "colorscale": [
             [
              0,
              "#0d0887"
             ],
             [
              0.1111111111111111,
              "#46039f"
             ],
             [
              0.2222222222222222,
              "#7201a8"
             ],
             [
              0.3333333333333333,
              "#9c179e"
             ],
             [
              0.4444444444444444,
              "#bd3786"
             ],
             [
              0.5555555555555556,
              "#d8576b"
             ],
             [
              0.6666666666666666,
              "#ed7953"
             ],
             [
              0.7777777777777778,
              "#fb9f3a"
             ],
             [
              0.8888888888888888,
              "#fdca26"
             ],
             [
              1,
              "#f0f921"
             ]
            ],
            "type": "contour"
           }
          ],
          "contourcarpet": [
           {
            "colorbar": {
             "outlinewidth": 0,
             "ticks": ""
            },
            "type": "contourcarpet"
           }
          ],
          "heatmap": [
           {
            "colorbar": {
             "outlinewidth": 0,
             "ticks": ""
            },
            "colorscale": [
             [
              0,
              "#0d0887"
             ],
             [
              0.1111111111111111,
              "#46039f"
             ],
             [
              0.2222222222222222,
              "#7201a8"
             ],
             [
              0.3333333333333333,
              "#9c179e"
             ],
             [
              0.4444444444444444,
              "#bd3786"
             ],
             [
              0.5555555555555556,
              "#d8576b"
             ],
             [
              0.6666666666666666,
              "#ed7953"
             ],
             [
              0.7777777777777778,
              "#fb9f3a"
             ],
             [
              0.8888888888888888,
              "#fdca26"
             ],
             [
              1,
              "#f0f921"
             ]
            ],
            "type": "heatmap"
           }
          ],
          "heatmapgl": [
           {
            "colorbar": {
             "outlinewidth": 0,
             "ticks": ""
            },
            "colorscale": [
             [
              0,
              "#0d0887"
             ],
             [
              0.1111111111111111,
              "#46039f"
             ],
             [
              0.2222222222222222,
              "#7201a8"
             ],
             [
              0.3333333333333333,
              "#9c179e"
             ],
             [
              0.4444444444444444,
              "#bd3786"
             ],
             [
              0.5555555555555556,
              "#d8576b"
             ],
             [
              0.6666666666666666,
              "#ed7953"
             ],
             [
              0.7777777777777778,
              "#fb9f3a"
             ],
             [
              0.8888888888888888,
              "#fdca26"
             ],
             [
              1,
              "#f0f921"
             ]
            ],
            "type": "heatmapgl"
           }
          ],
          "histogram": [
           {
            "marker": {
             "pattern": {
              "fillmode": "overlay",
              "size": 10,
              "solidity": 0.2
             }
            },
            "type": "histogram"
           }
          ],
          "histogram2d": [
           {
            "colorbar": {
             "outlinewidth": 0,
             "ticks": ""
            },
            "colorscale": [
             [
              0,
              "#0d0887"
             ],
             [
              0.1111111111111111,
              "#46039f"
             ],
             [
              0.2222222222222222,
              "#7201a8"
             ],
             [
              0.3333333333333333,
              "#9c179e"
             ],
             [
              0.4444444444444444,
              "#bd3786"
             ],
             [
              0.5555555555555556,
              "#d8576b"
             ],
             [
              0.6666666666666666,
              "#ed7953"
             ],
             [
              0.7777777777777778,
              "#fb9f3a"
             ],
             [
              0.8888888888888888,
              "#fdca26"
             ],
             [
              1,
              "#f0f921"
             ]
            ],
            "type": "histogram2d"
           }
          ],
          "histogram2dcontour": [
           {
            "colorbar": {
             "outlinewidth": 0,
             "ticks": ""
            },
            "colorscale": [
             [
              0,
              "#0d0887"
             ],
             [
              0.1111111111111111,
              "#46039f"
             ],
             [
              0.2222222222222222,
              "#7201a8"
             ],
             [
              0.3333333333333333,
              "#9c179e"
             ],
             [
              0.4444444444444444,
              "#bd3786"
             ],
             [
              0.5555555555555556,
              "#d8576b"
             ],
             [
              0.6666666666666666,
              "#ed7953"
             ],
             [
              0.7777777777777778,
              "#fb9f3a"
             ],
             [
              0.8888888888888888,
              "#fdca26"
             ],
             [
              1,
              "#f0f921"
             ]
            ],
            "type": "histogram2dcontour"
           }
          ],
          "mesh3d": [
           {
            "colorbar": {
             "outlinewidth": 0,
             "ticks": ""
            },
            "type": "mesh3d"
           }
          ],
          "parcoords": [
           {
            "line": {
             "colorbar": {
              "outlinewidth": 0,
              "ticks": ""
             }
            },
            "type": "parcoords"
           }
          ],
          "pie": [
           {
            "automargin": true,
            "type": "pie"
           }
          ],
          "scatter": [
           {
            "fillpattern": {
             "fillmode": "overlay",
             "size": 10,
             "solidity": 0.2
            },
            "type": "scatter"
           }
          ],
          "scatter3d": [
           {
            "line": {
             "colorbar": {
              "outlinewidth": 0,
              "ticks": ""
             }
            },
            "marker": {
             "colorbar": {
              "outlinewidth": 0,
              "ticks": ""
             }
            },
            "type": "scatter3d"
           }
          ],
          "scattercarpet": [
           {
            "marker": {
             "colorbar": {
              "outlinewidth": 0,
              "ticks": ""
             }
            },
            "type": "scattercarpet"
           }
          ],
          "scattergeo": [
           {
            "marker": {
             "colorbar": {
              "outlinewidth": 0,
              "ticks": ""
             }
            },
            "type": "scattergeo"
           }
          ],
          "scattergl": [
           {
            "marker": {
             "colorbar": {
              "outlinewidth": 0,
              "ticks": ""
             }
            },
            "type": "scattergl"
           }
          ],
          "scattermapbox": [
           {
            "marker": {
             "colorbar": {
              "outlinewidth": 0,
              "ticks": ""
             }
            },
            "type": "scattermapbox"
           }
          ],
          "scatterpolar": [
           {
            "marker": {
             "colorbar": {
              "outlinewidth": 0,
              "ticks": ""
             }
            },
            "type": "scatterpolar"
           }
          ],
          "scatterpolargl": [
           {
            "marker": {
             "colorbar": {
              "outlinewidth": 0,
              "ticks": ""
             }
            },
            "type": "scatterpolargl"
           }
          ],
          "scatterternary": [
           {
            "marker": {
             "colorbar": {
              "outlinewidth": 0,
              "ticks": ""
             }
            },
            "type": "scatterternary"
           }
          ],
          "surface": [
           {
            "colorbar": {
             "outlinewidth": 0,
             "ticks": ""
            },
            "colorscale": [
             [
              0,
              "#0d0887"
             ],
             [
              0.1111111111111111,
              "#46039f"
             ],
             [
              0.2222222222222222,
              "#7201a8"
             ],
             [
              0.3333333333333333,
              "#9c179e"
             ],
             [
              0.4444444444444444,
              "#bd3786"
             ],
             [
              0.5555555555555556,
              "#d8576b"
             ],
             [
              0.6666666666666666,
              "#ed7953"
             ],
             [
              0.7777777777777778,
              "#fb9f3a"
             ],
             [
              0.8888888888888888,
              "#fdca26"
             ],
             [
              1,
              "#f0f921"
             ]
            ],
            "type": "surface"
           }
          ],
          "table": [
           {
            "cells": {
             "fill": {
              "color": "#EBF0F8"
             },
             "line": {
              "color": "white"
             }
            },
            "header": {
             "fill": {
              "color": "#C8D4E3"
             },
             "line": {
              "color": "white"
             }
            },
            "type": "table"
           }
          ]
         },
         "layout": {
          "annotationdefaults": {
           "arrowcolor": "#2a3f5f",
           "arrowhead": 0,
           "arrowwidth": 1
          },
          "autotypenumbers": "strict",
          "coloraxis": {
           "colorbar": {
            "outlinewidth": 0,
            "ticks": ""
           }
          },
          "colorscale": {
           "diverging": [
            [
             0,
             "#8e0152"
            ],
            [
             0.1,
             "#c51b7d"
            ],
            [
             0.2,
             "#de77ae"
            ],
            [
             0.3,
             "#f1b6da"
            ],
            [
             0.4,
             "#fde0ef"
            ],
            [
             0.5,
             "#f7f7f7"
            ],
            [
             0.6,
             "#e6f5d0"
            ],
            [
             0.7,
             "#b8e186"
            ],
            [
             0.8,
             "#7fbc41"
            ],
            [
             0.9,
             "#4d9221"
            ],
            [
             1,
             "#276419"
            ]
           ],
           "sequential": [
            [
             0,
             "#0d0887"
            ],
            [
             0.1111111111111111,
             "#46039f"
            ],
            [
             0.2222222222222222,
             "#7201a8"
            ],
            [
             0.3333333333333333,
             "#9c179e"
            ],
            [
             0.4444444444444444,
             "#bd3786"
            ],
            [
             0.5555555555555556,
             "#d8576b"
            ],
            [
             0.6666666666666666,
             "#ed7953"
            ],
            [
             0.7777777777777778,
             "#fb9f3a"
            ],
            [
             0.8888888888888888,
             "#fdca26"
            ],
            [
             1,
             "#f0f921"
            ]
           ],
           "sequentialminus": [
            [
             0,
             "#0d0887"
            ],
            [
             0.1111111111111111,
             "#46039f"
            ],
            [
             0.2222222222222222,
             "#7201a8"
            ],
            [
             0.3333333333333333,
             "#9c179e"
            ],
            [
             0.4444444444444444,
             "#bd3786"
            ],
            [
             0.5555555555555556,
             "#d8576b"
            ],
            [
             0.6666666666666666,
             "#ed7953"
            ],
            [
             0.7777777777777778,
             "#fb9f3a"
            ],
            [
             0.8888888888888888,
             "#fdca26"
            ],
            [
             1,
             "#f0f921"
            ]
           ]
          },
          "colorway": [
           "#636efa",
           "#EF553B",
           "#00cc96",
           "#ab63fa",
           "#FFA15A",
           "#19d3f3",
           "#FF6692",
           "#B6E880",
           "#FF97FF",
           "#FECB52"
          ],
          "font": {
           "color": "#2a3f5f"
          },
          "geo": {
           "bgcolor": "white",
           "lakecolor": "white",
           "landcolor": "#E5ECF6",
           "showlakes": true,
           "showland": true,
           "subunitcolor": "white"
          },
          "hoverlabel": {
           "align": "left"
          },
          "hovermode": "closest",
          "mapbox": {
           "style": "light"
          },
          "paper_bgcolor": "white",
          "plot_bgcolor": "#E5ECF6",
          "polar": {
           "angularaxis": {
            "gridcolor": "white",
            "linecolor": "white",
            "ticks": ""
           },
           "bgcolor": "#E5ECF6",
           "radialaxis": {
            "gridcolor": "white",
            "linecolor": "white",
            "ticks": ""
           }
          },
          "scene": {
           "xaxis": {
            "backgroundcolor": "#E5ECF6",
            "gridcolor": "white",
            "gridwidth": 2,
            "linecolor": "white",
            "showbackground": true,
            "ticks": "",
            "zerolinecolor": "white"
           },
           "yaxis": {
            "backgroundcolor": "#E5ECF6",
            "gridcolor": "white",
            "gridwidth": 2,
            "linecolor": "white",
            "showbackground": true,
            "ticks": "",
            "zerolinecolor": "white"
           },
           "zaxis": {
            "backgroundcolor": "#E5ECF6",
            "gridcolor": "white",
            "gridwidth": 2,
            "linecolor": "white",
            "showbackground": true,
            "ticks": "",
            "zerolinecolor": "white"
           }
          },
          "shapedefaults": {
           "line": {
            "color": "#2a3f5f"
           }
          },
          "ternary": {
           "aaxis": {
            "gridcolor": "white",
            "linecolor": "white",
            "ticks": ""
           },
           "baxis": {
            "gridcolor": "white",
            "linecolor": "white",
            "ticks": ""
           },
           "bgcolor": "#E5ECF6",
           "caxis": {
            "gridcolor": "white",
            "linecolor": "white",
            "ticks": ""
           }
          },
          "title": {
           "x": 0.05
          },
          "xaxis": {
           "automargin": true,
           "gridcolor": "white",
           "linecolor": "white",
           "ticks": "",
           "title": {
            "standoff": 15
           },
           "zerolinecolor": "white",
           "zerolinewidth": 2
          },
          "yaxis": {
           "automargin": true,
           "gridcolor": "white",
           "linecolor": "white",
           "ticks": "",
           "title": {
            "standoff": 15
           },
           "zerolinecolor": "white",
           "zerolinewidth": 2
          }
         }
        },
        "xaxis": {
         "autorange": true,
         "range": [
          "2020-08-14 00:35:50.4726",
          "2023-12-13 23:24:09.5274"
         ],
         "type": "date"
        },
        "yaxis": {
         "autorange": true,
         "range": [
          -89330.48543689321,
          1935090.4854368933
         ],
         "type": "linear"
        }
       }
      },
      "image/png": "[encoded data removed]",
      "text/html": [
       "<div>                            <div id=\"767c7553-2ee1-4e38-b277-598429233f33\" class=\"plotly-graph-div\" style=\"height:525px; width:100%;\"></div>            <script type=\"text/javascript\">                require([\"plotly\"], function(Plotly) {                    window.PLOTLYENV=window.PLOTLYENV || {};                                    if (document.getElementById(\"767c7553-2ee1-4e38-b277-598429233f33\")) {                    Plotly.newPlot(                        \"767c7553-2ee1-4e38-b277-598429233f33\",                        [{\"mode\":\"lines+text+markers\",\"name\":\"Incorrect\",\"x\":[\"2021-02-08T00:00:00+00:00\",\"2021-02-15T00:00:00+00:00\",\"2021-03-01T00:00:00+00:00\",\"2021-03-15T00:00:00+00:00\",\"2021-04-05T00:00:00+00:00\",\"2021-04-12T00:00:00+00:00\",\"2021-05-31T00:00:00+00:00\",\"2021-06-21T00:00:00+00:00\",\"2021-06-28T00:00:00+00:00\",\"2021-07-26T00:00:00+00:00\",\"2021-08-16T00:00:00+00:00\",\"2021-08-23T00:00:00+00:00\",\"2021-11-15T00:00:00+00:00\",\"2021-11-22T00:00:00+00:00\",\"2021-11-29T00:00:00+00:00\",\"2021-12-20T00:00:00+00:00\",\"2021-12-27T00:00:00+00:00\",\"2022-01-24T00:00:00+00:00\",\"2022-01-31T00:00:00+00:00\",\"2022-02-14T00:00:00+00:00\",\"2022-02-21T00:00:00+00:00\",\"2022-03-07T00:00:00+00:00\",\"2022-03-14T00:00:00+00:00\",\"2022-03-28T00:00:00+00:00\",\"2022-04-11T00:00:00+00:00\",\"2022-05-02T00:00:00+00:00\",\"2022-05-09T00:00:00+00:00\",\"2022-05-16T00:00:00+00:00\",\"2022-05-23T00:00:00+00:00\",\"2022-05-30T00:00:00+00:00\",\"2022-06-20T00:00:00+00:00\",\"2022-07-11T00:00:00+00:00\",\"2022-07-25T00:00:00+00:00\",\"2022-08-01T00:00:00+00:00\",\"2022-08-15T00:00:00+00:00\",\"2022-08-22T00:00:00+00:00\",\"2022-09-05T00:00:00+00:00\",\"2022-09-12T00:00:00+00:00\",\"2022-09-19T00:00:00+00:00\",\"2022-09-26T00:00:00+00:00\",\"2022-10-03T00:00:00+00:00\",\"2022-10-10T00:00:00+00:00\",\"2022-10-17T00:00:00+00:00\",\"2022-10-24T00:00:00+00:00\",\"2022-10-31T00:00:00+00:00\",\"2022-11-07T00:00:00+00:00\",\"2022-11-14T00:00:00+00:00\",\"2022-11-21T00:00:00+00:00\",\"2022-11-28T00:00:00+00:00\",\"2022-12-12T00:00:00+00:00\",\"2023-02-13T00:00:00+00:00\",\"2023-03-13T00:00:00+00:00\",\"2023-04-24T00:00:00+00:00\",\"2023-05-15T00:00:00+00:00\",\"2023-06-12T00:00:00+00:00\",\"2023-06-26T00:00:00+00:00\",\"2023-07-10T00:00:00+00:00\",\"2023-07-24T00:00:00+00:00\",\"2023-08-21T00:00:00+00:00\",\"2023-09-04T00:00:00+00:00\",\"2023-09-18T00:00:00+00:00\",\"2023-10-02T00:00:00+00:00\"],\"y\":[825122,550082,905277,603518,905277,603518,1207036,905277,1207036,905277,1207036,905277,905277,603518,603518,603518,603518,603518,603518,1207036,603518,1042012,1042012,694675,694675,650668,1042012,1042012,694675,694675,694675,1389349,694675,694675,694675,694675,694675,694675,694675,694675,694675,694675,694675,694675,694675,694675,694675,694675,694675,1389349,1791694,1075016,1791694,1791694,1791694,1433355,1433355,1433355,1433355,1433355,1433355,1433355],\"type\":\"scatter\"},{\"mode\":\"lines+text+markers\",\"name\":\"Correct\",\"x\":[\"2020-10-19T00:00:00+00:00\",\"2020-10-26T00:00:00+00:00\",\"2020-11-02T00:00:00+00:00\",\"2020-11-09T00:00:00+00:00\",\"2020-11-16T00:00:00+00:00\",\"2020-11-23T00:00:00+00:00\",\"2020-11-30T00:00:00+00:00\",\"2020-12-07T00:00:00+00:00\",\"2020-12-14T00:00:00+00:00\",\"2020-12-21T00:00:00+00:00\",\"2020-12-28T00:00:00+00:00\",\"2021-01-04T00:00:00+00:00\",\"2021-01-11T00:00:00+00:00\",\"2021-01-18T00:00:00+00:00\",\"2021-01-25T00:00:00+00:00\",\"2021-02-01T00:00:00+00:00\",\"2021-02-08T00:00:00+00:00\",\"2021-02-15T00:00:00+00:00\",\"2021-02-22T00:00:00+00:00\",\"2021-03-01T00:00:00+00:00\",\"2021-03-08T00:00:00+00:00\",\"2021-03-15T00:00:00+00:00\",\"2021-03-22T00:00:00+00:00\",\"2021-03-29T00:00:00+00:00\",\"2021-04-05T00:00:00+00:00\",\"2021-04-12T00:00:00+00:00\",\"2021-04-19T00:00:00+00:00\",\"2021-04-26T00:00:00+00:00\",\"2021-05-03T00:00:00+00:00\",\"2021-05-10T00:00:00+00:00\",\"2021-05-17T00:00:00+00:00\",\"2021-05-24T00:00:00+00:00\",\"2021-05-31T00:00:00+00:00\",\"2021-06-07T00:00:00+00:00\",\"2021-06-14T00:00:00+00:00\",\"2021-06-21T00:00:00+00:00\",\"2021-06-28T00:00:00+00:00\",\"2021-07-05T00:00:00+00:00\",\"2021-07-12T00:00:00+00:00\",\"2021-07-19T00:00:00+00:00\",\"2021-07-26T00:00:00+00:00\",\"2021-08-02T00:00:00+00:00\",\"2021-08-09T00:00:00+00:00\",\"2021-08-16T00:00:00+00:00\",\"2021-08-23T00:00:00+00:00\",\"2021-08-30T00:00:00+00:00\",\"2021-09-06T00:00:00+00:00\",\"2021-09-13T00:00:00+00:00\",\"2021-09-20T00:00:00+00:00\",\"2021-09-27T00:00:00+00:00\",\"2021-10-04T00:00:00+00:00\",\"2021-10-11T00:00:00+00:00\",\"2021-10-18T00:00:00+00:00\",\"2021-10-25T00:00:00+00:00\",\"2021-11-01T00:00:00+00:00\",\"2021-11-08T00:00:00+00:00\",\"2021-11-15T00:00:00+00:00\",\"2021-11-22T00:00:00+00:00\",\"2021-11-29T00:00:00+00:00\",\"2021-12-06T00:00:00+00:00\",\"2021-12-13T00:00:00+00:00\",\"2021-12-20T00:00:00+00:00\",\"2021-12-27T00:00:00+00:00\",\"2022-01-03T00:00:00+00:00\",\"2022-01-10T00:00:00+00:00\",\"2022-01-17T00:00:00+00:00\",\"2022-01-24T00:00:00+00:00\",\"2022-01-31T00:00:00+00:00\",\"2022-02-07T00:00:00+00:00\",\"2022-02-14T00:00:00+00:00\",\"2022-02-21T00:00:00+00:00\",\"2022-02-28T00:00:00+00:00\",\"2022-03-07T00:00:00+00:00\",\"2022-03-14T00:00:00+00:00\",\"2022-03-21T00:00:00+00:00\",\"2022-03-28T00:00:00+00:00\",\"2022-04-04T00:00:00+00:00\",\"2022-04-11T00:00:00+00:00\",\"2022-04-18T00:00:00+00:00\",\"2022-04-25T00:00:00+00:00\",\"2022-05-02T00:00:00+00:00\",\"2022-05-09T00:00:00+00:00\",\"2022-05-16T00:00:00+00:00\",\"2022-05-23T00:00:00+00:00\",\"2022-05-30T00:00:00+00:00\",\"2022-06-06T00:00:00+00:00\",\"2022-06-13T00:00:00+00:00\",\"2022-06-20T00:00:00+00:00\",\"2022-06-27T00:00:00+00:00\",\"2022-07-04T00:00:00+00:00\",\"2022-07-11T00:00:00+00:00\",\"2022-07-18T00:00:00+00:00\",\"2022-07-25T00:00:00+00:00\",\"2022-08-01T00:00:00+00:00\",\"2022-08-08T00:00:00+00:00\",\"2022-08-15T00:00:00+00:00\",\"2022-08-22T00:00:00+00:00\",\"2022-08-29T00:00:00+00:00\",\"2022-09-05T00:00:00+00:00\",\"2022-09-12T00:00:00+00:00\",\"2022-09-19T00:00:00+00:00\",\"2022-09-26T00:00:00+00:00\",\"2022-10-03T00:00:00+00:00\",\"2022-10-10T00:00:00+00:00\",\"2022-10-17T00:00:00+00:00\",\"2022-10-24T00:00:00+00:00\",\"2022-10-31T00:00:00+00:00\",\"2022-11-07T00:00:00+00:00\",\"2022-11-14T00:00:00+00:00\",\"2022-11-21T00:00:00+00:00\",\"2022-11-28T00:00:00+00:00\",\"2022-12-05T00:00:00+00:00\",\"2022-12-12T00:00:00+00:00\",\"2022-12-19T00:00:00+00:00\",\"2022-12-26T00:00:00+00:00\",\"2023-01-02T00:00:00+00:00\",\"2023-01-09T00:00:00+00:00\",\"2023-01-16T00:00:00+00:00\",\"2023-01-23T00:00:00+00:00\",\"2023-01-30T00:00:00+00:00\",\"2023-02-06T00:00:00+00:00\",\"2023-02-13T00:00:00+00:00\",\"2023-02-20T00:00:00+00:00\",\"2023-02-27T00:00:00+00:00\",\"2023-03-06T00:00:00+00:00\",\"2023-03-13T00:00:00+00:00\",\"2023-03-20T00:00:00+00:00\",\"2023-03-27T00:00:00+00:00\",\"2023-04-03T00:00:00+00:00\",\"2023-04-10T00:00:00+00:00\",\"2023-04-17T00:00:00+00:00\",\"2023-04-24T00:00:00+00:00\",\"2023-05-01T00:00:00+00:00\",\"2023-05-08T00:00:00+00:00\",\"2023-05-15T00:00:00+00:00\",\"2023-05-22T00:00:00+00:00\",\"2023-05-29T00:00:00+00:00\",\"2023-06-05T00:00:00+00:00\",\"2023-06-12T00:00:00+00:00\",\"2023-06-19T00:00:00+00:00\",\"2023-06-26T00:00:00+00:00\",\"2023-07-03T00:00:00+00:00\",\"2023-07-10T00:00:00+00:00\",\"2023-07-17T00:00:00+00:00\",\"2023-07-24T00:00:00+00:00\",\"2023-07-31T00:00:00+00:00\",\"2023-08-07T00:00:00+00:00\",\"2023-08-14T00:00:00+00:00\",\"2023-08-21T00:00:00+00:00\",\"2023-08-28T00:00:00+00:00\",\"2023-09-04T00:00:00+00:00\",\"2023-09-11T00:00:00+00:00\",\"2023-09-18T00:00:00+00:00\",\"2023-09-25T00:00:00+00:00\",\"2023-10-02T00:00:00+00:00\",\"2023-10-09T00:00:00+00:00\"],\"y\":[424899,540495,452246,462442,516311,498806,558785,404251,370382,437217,322172,469927,497942,414232,478984,632339,602006,558530,536546,454211,579433,574757,566781,236202,438769,615247,542302,617565,441578,492009,654165,636032,465055,550436,742728,555760,377140,628036,721629,731412,622084,891545,721157,634107,588607,557292,621023,477707,546762,432502,427276,510044,632574,691590,362052,509671,518413,696403,649745,311111,728740,401933,567233,425823,522676,499376,676954,570297,486980,544974,490496,541045,546447,54066,631710,952289,802039,277320,754869,812569,641474,709939,811881,731864,993742,783690,571555,676129,565610,682887,789383,795654,818632,831126,797650,800023,750563,687791,810742,551575,631588,612838,675893,219813,636818,568073,456517,885085,374170,544994,460041,499812,701060,370304,674962,465028,783525,620728,539088,696380,477239,546679,586403,598627,683850,706010,653756,871317,761435,874441,1588160,969118,630995,277925,243294,220945,256967,277140,324549,380091,329719,406393,511199,399234,252276,413237,289956,263277,272063,359738,353341,333641,278923,224332,205503,77657],\"type\":\"scatter\"}],                        {\"template\":{\"data\":{\"histogram2dcontour\":[{\"type\":\"histogram2dcontour\",\"colorbar\":{\"outlinewidth\":0,\"ticks\":\"\"},\"colorscale\":[[0.0,\"#0d0887\"],[0.1111111111111111,\"#46039f\"],[0.2222222222222222,\"#7201a8\"],[0.3333333333333333,\"#9c179e\"],[0.4444444444444444,\"#bd3786\"],[0.5555555555555556,\"#d8576b\"],[0.6666666666666666,\"#ed7953\"],[0.7777777777777778,\"#fb9f3a\"],[0.8888888888888888,\"#fdca26\"],[1.0,\"#f0f921\"]]}],\"choropleth\":[{\"type\":\"choropleth\",\"colorbar\":{\"outlinewidth\":0,\"ticks\":\"\"}}],\"histogram2d\":[{\"type\":\"histogram2d\",\"colorbar\":{\"outlinewidth\":0,\"ticks\":\"\"},\"colorscale\":[[0.0,\"#0d0887\"],[0.1111111111111111,\"#46039f\"],[0.2222222222222222,\"#7201a8\"],[0.3333333333333333,\"#9c179e\"],[0.4444444444444444,\"#bd3786\"],[0.5555555555555556,\"#d8576b\"],[0.6666666666666666,\"#ed7953\"],[0.7777777777777778,\"#fb9f3a\"],[0.8888888888888888,\"#fdca26\"],[1.0,\"#f0f921\"]]}],\"heatmap\":[{\"type\":\"heatmap\",\"colorbar\":{\"outlinewidth\":0,\"ticks\":\"\"},\"colorscale\":[[0.0,\"#0d0887\"],[0.1111111111111111,\"#46039f\"],[0.2222222222222222,\"#7201a8\"],[0.3333333333333333,\"#9c179e\"],[0.4444444444444444,\"#bd3786\"],[0.5555555555555556,\"#d8576b\"],[0.6666666666666666,\"#ed7953\"],[0.7777777777777778,\"#fb9f3a\"],[0.8888888888888888,\"#fdca26\"],[1.0,\"#f0f921\"]]}],\"heatmapgl\":[{\"type\":\"heatmapgl\",\"colorbar\":{\"outlinewidth\":0,\"ticks\":\"\"},\"colorscale\":[[0.0,\"#0d0887\"],[0.1111111111111111,\"#46039f\"],[0.2222222222222222,\"#7201a8\"],[0.3333333333333333,\"#9c179e\"],[0.4444444444444444,\"#bd3786\"],[0.5555555555555556,\"#d8576b\"],[0.6666666666666666,\"#ed7953\"],[0.7777777777777778,\"#fb9f3a\"],[0.8888888888888888,\"#fdca26\"],[1.0,\"#f0f921\"]]}],\"contourcarpet\":[{\"type\":\"contourcarpet\",\"colorbar\":{\"outlinewidth\":0,\"ticks\":\"\"}}],\"contour\":[{\"type\":\"contour\",\"colorbar\":{\"outlinewidth\":0,\"ticks\":\"\"},\"colorscale\":[[0.0,\"#0d0887\"],[0.1111111111111111,\"#46039f\"],[0.2222222222222222,\"#7201a8\"],[0.3333333333333333,\"#9c179e\"],[0.4444444444444444,\"#bd3786\"],[0.5555555555555556,\"#d8576b\"],[0.6666666666666666,\"#ed7953\"],[0.7777777777777778,\"#fb9f3a\"],[0.8888888888888888,\"#fdca26\"],[1.0,\"#f0f921\"]]}],\"surface\":[{\"type\":\"surface\",\"colorbar\":{\"outlinewidth\":0,\"ticks\":\"\"},\"colorscale\":[[0.0,\"#0d0887\"],[0.1111111111111111,\"#46039f\"],[0.2222222222222222,\"#7201a8\"],[0.3333333333333333,\"#9c179e\"],[0.4444444444444444,\"#bd3786\"],[0.5555555555555556,\"#d8576b\"],[0.6666666666666666,\"#ed7953\"],[0.7777777777777778,\"#fb9f3a\"],[0.8888888888888888,\"#fdca26\"],[1.0,\"#f0f921\"]]}],\"mesh3d\":[{\"type\":\"mesh3d\",\"colorbar\":{\"outlinewidth\":0,\"ticks\":\"\"}}],\"scatter\":[{\"fillpattern\":{\"fillmode\":\"overlay\",\"size\":10,\"solidity\":0.2},\"type\":\"scatter\"}],\"parcoords\":[{\"type\":\"parcoords\",\"line\":{\"colorbar\":{\"outlinewidth\":0,\"ticks\":\"\"}}}],\"scatterpolargl\":[{\"type\":\"scatterpolargl\",\"marker\":{\"colorbar\":{\"outlinewidth\":0,\"ticks\":\"\"}}}],\"bar\":[{\"error_x\":{\"color\":\"#2a3f5f\"},\"error_y\":{\"color\":\"#2a3f5f\"},\"marker\":{\"line\":{\"color\":\"#E5ECF6\",\"width\":0.5},\"pattern\":{\"fillmode\":\"overlay\",\"size\":10,\"solidity\":0.2}},\"type\":\"bar\"}],\"scattergeo\":[{\"type\":\"scattergeo\",\"marker\":{\"colorbar\":{\"outlinewidth\":0,\"ticks\":\"\"}}}],\"scatterpolar\":[{\"type\":\"scatterpolar\",\"marker\":{\"colorbar\":{\"outlinewidth\":0,\"ticks\":\"\"}}}],\"histogram\":[{\"marker\":{\"pattern\":{\"fillmode\":\"overlay\",\"size\":10,\"solidity\":0.2}},\"type\":\"histogram\"}],\"scattergl\":[{\"type\":\"scattergl\",\"marker\":{\"colorbar\":{\"outlinewidth\":0,\"ticks\":\"\"}}}],\"scatter3d\":[{\"type\":\"scatter3d\",\"line\":{\"colorbar\":{\"outlinewidth\":0,\"ticks\":\"\"}},\"marker\":{\"colorbar\":{\"outlinewidth\":0,\"ticks\":\"\"}}}],\"scattermapbox\":[{\"type\":\"scattermapbox\",\"marker\":{\"colorbar\":{\"outlinewidth\":0,\"ticks\":\"\"}}}],\"scatterternary\":[{\"type\":\"scatterternary\",\"marker\":{\"colorbar\":{\"outlinewidth\":0,\"ticks\":\"\"}}}],\"scattercarpet\":[{\"type\":\"scattercarpet\",\"marker\":{\"colorbar\":{\"outlinewidth\":0,\"ticks\":\"\"}}}],\"carpet\":[{\"aaxis\":{\"endlinecolor\":\"#2a3f5f\",\"gridcolor\":\"white\",\"linecolor\":\"white\",\"minorgridcolor\":\"white\",\"startlinecolor\":\"#2a3f5f\"},\"baxis\":{\"endlinecolor\":\"#2a3f5f\",\"gridcolor\":\"white\",\"linecolor\":\"white\",\"minorgridcolor\":\"white\",\"startlinecolor\":\"#2a3f5f\"},\"type\":\"carpet\"}],\"table\":[{\"cells\":{\"fill\":{\"color\":\"#EBF0F8\"},\"line\":{\"color\":\"white\"}},\"header\":{\"fill\":{\"color\":\"#C8D4E3\"},\"line\":{\"color\":\"white\"}},\"type\":\"table\"}],\"barpolar\":[{\"marker\":{\"line\":{\"color\":\"#E5ECF6\",\"width\":0.5},\"pattern\":{\"fillmode\":\"overlay\",\"size\":10,\"solidity\":0.2}},\"type\":\"barpolar\"}],\"pie\":[{\"automargin\":true,\"type\":\"pie\"}]},\"layout\":{\"autotypenumbers\":\"strict\",\"colorway\":[\"#636efa\",\"#EF553B\",\"#00cc96\",\"#ab63fa\",\"#FFA15A\",\"#19d3f3\",\"#FF6692\",\"#B6E880\",\"#FF97FF\",\"#FECB52\"],\"font\":{\"color\":\"#2a3f5f\"},\"hovermode\":\"closest\",\"hoverlabel\":{\"align\":\"left\"},\"paper_bgcolor\":\"white\",\"plot_bgcolor\":\"#E5ECF6\",\"polar\":{\"bgcolor\":\"#E5ECF6\",\"angularaxis\":{\"gridcolor\":\"white\",\"linecolor\":\"white\",\"ticks\":\"\"},\"radialaxis\":{\"gridcolor\":\"white\",\"linecolor\":\"white\",\"ticks\":\"\"}},\"ternary\":{\"bgcolor\":\"#E5ECF6\",\"aaxis\":{\"gridcolor\":\"white\",\"linecolor\":\"white\",\"ticks\":\"\"},\"baxis\":{\"gridcolor\":\"white\",\"linecolor\":\"white\",\"ticks\":\"\"},\"caxis\":{\"gridcolor\":\"white\",\"linecolor\":\"white\",\"ticks\":\"\"}},\"coloraxis\":{\"colorbar\":{\"outlinewidth\":0,\"ticks\":\"\"}},\"colorscale\":{\"sequential\":[[0.0,\"#0d0887\"],[0.1111111111111111,\"#46039f\"],[0.2222222222222222,\"#7201a8\"],[0.3333333333333333,\"#9c179e\"],[0.4444444444444444,\"#bd3786\"],[0.5555555555555556,\"#d8576b\"],[0.6666666666666666,\"#ed7953\"],[0.7777777777777778,\"#fb9f3a\"],[0.8888888888888888,\"#fdca26\"],[1.0,\"#f0f921\"]],\"sequentialminus\":[[0.0,\"#0d0887\"],[0.1111111111111111,\"#46039f\"],[0.2222222222222222,\"#7201a8\"],[0.3333333333333333,\"#9c179e\"],[0.4444444444444444,\"#bd3786\"],[0.5555555555555556,\"#d8576b\"],[0.6666666666666666,\"#ed7953\"],[0.7777777777777778,\"#fb9f3a\"],[0.8888888888888888,\"#fdca26\"],[1.0,\"#f0f921\"]],\"diverging\":[[0,\"#8e0152\"],[0.1,\"#c51b7d\"],[0.2,\"#de77ae\"],[0.3,\"#f1b6da\"],[0.4,\"#fde0ef\"],[0.5,\"#f7f7f7\"],[0.6,\"#e6f5d0\"],[0.7,\"#b8e186\"],[0.8,\"#7fbc41\"],[0.9,\"#4d9221\"],[1,\"#276419\"]]},\"xaxis\":{\"gridcolor\":\"white\",\"linecolor\":\"white\",\"ticks\":\"\",\"title\":{\"standoff\":15},\"zerolinecolor\":\"white\",\"automargin\":true,\"zerolinewidth\":2},\"yaxis\":{\"gridcolor\":\"white\",\"linecolor\":\"white\",\"ticks\":\"\",\"title\":{\"standoff\":15},\"zerolinecolor\":\"white\",\"automargin\":true,\"zerolinewidth\":2},\"scene\":{\"xaxis\":{\"backgroundcolor\":\"#E5ECF6\",\"gridcolor\":\"white\",\"linecolor\":\"white\",\"showbackground\":true,\"ticks\":\"\",\"zerolinecolor\":\"white\",\"gridwidth\":2},\"yaxis\":{\"backgroundcolor\":\"#E5ECF6\",\"gridcolor\":\"white\",\"linecolor\":\"white\",\"showbackground\":true,\"ticks\":\"\",\"zerolinecolor\":\"white\",\"gridwidth\":2},\"zaxis\":{\"backgroundcolor\":\"#E5ECF6\",\"gridcolor\":\"white\",\"linecolor\":\"white\",\"showbackground\":true,\"ticks\":\"\",\"zerolinecolor\":\"white\",\"gridwidth\":2}},\"shapedefaults\":{\"line\":{\"color\":\"#2a3f5f\"}},\"annotationdefaults\":{\"arrowcolor\":\"#2a3f5f\",\"arrowhead\":0,\"arrowwidth\":1},\"geo\":{\"bgcolor\":\"white\",\"landcolor\":\"#E5ECF6\",\"subunitcolor\":\"white\",\"showland\":true,\"showlakes\":true,\"lakecolor\":\"white\"},\"title\":{\"x\":0.05},\"mapbox\":{\"style\":\"light\"}}}},                        {\"responsive\": true}                    ).then(function(){\n",
       "                            \n",
       "var gd = document.getElementById('767c7553-2ee1-4e38-b277-598429233f33');\n",
       "var x = new MutationObserver(function (mutations, observer) {{\n",
       "        var display = window.getComputedStyle(gd).display;\n",
       "        if (!display || display === 'none') {{\n",
       "            console.log([gd, 'removed!']);\n",
       "            Plotly.purge(gd);\n",
       "            observer.disconnect();\n",
       "        }}\n",
       "}});\n",
       "\n",
       "// Listen for the removal of the full notebook cells\n",
       "var notebookContainer = gd.closest('#notebook-container');\n",
       "if (notebookContainer) {{\n",
       "    x.observe(notebookContainer, {childList: true});\n",
       "}}\n",
       "\n",
       "// Listen for the clearing of the current output cell\n",
       "var outputEl = gd.closest('.output');\n",
       "if (outputEl) {{\n",
       "    x.observe(outputEl, {childList: true});\n",
       "}}\n",
       "\n",
       "                        })                };                });            </script>        </div>"
      ]
     },
     "metadata": {},
     "output_type": "display_data"
    }
   ],
   "source": [
    "wrong_df = df[df['prod_code'] == '2493_07']\n",
    "wrong_df = wrong_df.sort_values('time_var')\n",
    "wrong_df['time_var'].to_list()\n",
    "\n",
    "corr_df = df[df['prod_code'] == '5069_01']\n",
    "corr_df = corr_df.sort_values('time_var')\n",
    "corr_df['time_var'].to_list()\n",
    "\n",
    "fig = go.Figure()\n",
    "\n",
    "# Wrong data\n",
    "fig.add_trace(go.Scatter(x=inspect_df['time_var'], y=inspect_df['shipments'],\n",
    "                    mode='lines+text+markers', name='Incorrect'))\n",
    "\n",
    "fig.add_trace(go.Scatter(x=corr_df['time_var'], y=corr_df['shipments'],\n",
    "                    mode='lines+text+markers', name='Correct'))\n",
    "\n",
    "fig.show()"
   ]
  },
  {
   "cell_type": "code",
   "execution_count": 103,
   "id": "5fffef3f-4f4b-49c8-be6c-704e399ba0ff",
   "metadata": {},
   "outputs": [
    {
     "data": {
      "text/plain": [
       "4911    10\n",
       "4975    10\n",
       "4966    11\n",
       "4917    11\n",
       "5020    11\n",
       "        ..\n",
       "4899     9\n",
       "4977     9\n",
       "5005     9\n",
       "4946    10\n",
       "4971    10\n",
       "Name: time_var, Length: 156, dtype: int32"
      ]
     },
     "execution_count": 103,
     "metadata": {},
     "output_type": "execute_result"
    }
   ],
   "source": [
    "corr_df['time_var'].dt.month"
   ]
  },
  {
   "cell_type": "code",
   "execution_count": 89,
   "id": "f6ffba56-7c02-401d-9dca-e56e3f7a017b",
   "metadata": {},
   "outputs": [
    {
     "data": {
      "text/html": [
       "<div>\n",
       "<style scoped>\n",
       "    .dataframe tbody tr th:only-of-type {\n",
       "        vertical-align: middle;\n",
       "    }\n",
       "\n",
       "    .dataframe tbody tr th {\n",
       "        vertical-align: top;\n",
       "    }\n",
       "\n",
       "    .dataframe thead th {\n",
       "        text-align: right;\n",
       "    }\n",
       "</style>\n",
       "<table border=\"1\" class=\"dataframe\">\n",
       "  <thead>\n",
       "    <tr style=\"text-align: right;\">\n",
       "      <th></th>\n",
       "      <th>week_2</th>\n",
       "      <th>week_3</th>\n",
       "      <th>week_4</th>\n",
       "      <th>week_5</th>\n",
       "      <th>week_6</th>\n",
       "      <th>week_7</th>\n",
       "      <th>week_8</th>\n",
       "      <th>week_9</th>\n",
       "      <th>week_10</th>\n",
       "      <th>week_11</th>\n",
       "      <th>...</th>\n",
       "      <th>week_44</th>\n",
       "      <th>week_45</th>\n",
       "      <th>week_46</th>\n",
       "      <th>week_47</th>\n",
       "      <th>week_48</th>\n",
       "      <th>week_49</th>\n",
       "      <th>week_50</th>\n",
       "      <th>week_51</th>\n",
       "      <th>week_52</th>\n",
       "      <th>week_53</th>\n",
       "    </tr>\n",
       "  </thead>\n",
       "  <tbody>\n",
       "    <tr>\n",
       "      <th>4911</th>\n",
       "      <td>False</td>\n",
       "      <td>False</td>\n",
       "      <td>False</td>\n",
       "      <td>False</td>\n",
       "      <td>False</td>\n",
       "      <td>False</td>\n",
       "      <td>False</td>\n",
       "      <td>False</td>\n",
       "      <td>False</td>\n",
       "      <td>False</td>\n",
       "      <td>...</td>\n",
       "      <td>False</td>\n",
       "      <td>False</td>\n",
       "      <td>False</td>\n",
       "      <td>False</td>\n",
       "      <td>False</td>\n",
       "      <td>False</td>\n",
       "      <td>False</td>\n",
       "      <td>False</td>\n",
       "      <td>False</td>\n",
       "      <td>False</td>\n",
       "    </tr>\n",
       "    <tr>\n",
       "      <th>4975</th>\n",
       "      <td>False</td>\n",
       "      <td>False</td>\n",
       "      <td>False</td>\n",
       "      <td>False</td>\n",
       "      <td>False</td>\n",
       "      <td>False</td>\n",
       "      <td>False</td>\n",
       "      <td>False</td>\n",
       "      <td>False</td>\n",
       "      <td>False</td>\n",
       "      <td>...</td>\n",
       "      <td>True</td>\n",
       "      <td>False</td>\n",
       "      <td>False</td>\n",
       "      <td>False</td>\n",
       "      <td>False</td>\n",
       "      <td>False</td>\n",
       "      <td>False</td>\n",
       "      <td>False</td>\n",
       "      <td>False</td>\n",
       "      <td>False</td>\n",
       "    </tr>\n",
       "    <tr>\n",
       "      <th>4966</th>\n",
       "      <td>False</td>\n",
       "      <td>False</td>\n",
       "      <td>False</td>\n",
       "      <td>False</td>\n",
       "      <td>False</td>\n",
       "      <td>False</td>\n",
       "      <td>False</td>\n",
       "      <td>False</td>\n",
       "      <td>False</td>\n",
       "      <td>False</td>\n",
       "      <td>...</td>\n",
       "      <td>False</td>\n",
       "      <td>True</td>\n",
       "      <td>False</td>\n",
       "      <td>False</td>\n",
       "      <td>False</td>\n",
       "      <td>False</td>\n",
       "      <td>False</td>\n",
       "      <td>False</td>\n",
       "      <td>False</td>\n",
       "      <td>False</td>\n",
       "    </tr>\n",
       "    <tr>\n",
       "      <th>4917</th>\n",
       "      <td>False</td>\n",
       "      <td>False</td>\n",
       "      <td>False</td>\n",
       "      <td>False</td>\n",
       "      <td>False</td>\n",
       "      <td>False</td>\n",
       "      <td>False</td>\n",
       "      <td>False</td>\n",
       "      <td>False</td>\n",
       "      <td>False</td>\n",
       "      <td>...</td>\n",
       "      <td>False</td>\n",
       "      <td>False</td>\n",
       "      <td>True</td>\n",
       "      <td>False</td>\n",
       "      <td>False</td>\n",
       "      <td>False</td>\n",
       "      <td>False</td>\n",
       "      <td>False</td>\n",
       "      <td>False</td>\n",
       "      <td>False</td>\n",
       "    </tr>\n",
       "    <tr>\n",
       "      <th>5020</th>\n",
       "      <td>False</td>\n",
       "      <td>False</td>\n",
       "      <td>False</td>\n",
       "      <td>False</td>\n",
       "      <td>False</td>\n",
       "      <td>False</td>\n",
       "      <td>False</td>\n",
       "      <td>False</td>\n",
       "      <td>False</td>\n",
       "      <td>False</td>\n",
       "      <td>...</td>\n",
       "      <td>False</td>\n",
       "      <td>False</td>\n",
       "      <td>False</td>\n",
       "      <td>True</td>\n",
       "      <td>False</td>\n",
       "      <td>False</td>\n",
       "      <td>False</td>\n",
       "      <td>False</td>\n",
       "      <td>False</td>\n",
       "      <td>False</td>\n",
       "    </tr>\n",
       "    <tr>\n",
       "      <th>...</th>\n",
       "      <td>...</td>\n",
       "      <td>...</td>\n",
       "      <td>...</td>\n",
       "      <td>...</td>\n",
       "      <td>...</td>\n",
       "      <td>...</td>\n",
       "      <td>...</td>\n",
       "      <td>...</td>\n",
       "      <td>...</td>\n",
       "      <td>...</td>\n",
       "      <td>...</td>\n",
       "      <td>...</td>\n",
       "      <td>...</td>\n",
       "      <td>...</td>\n",
       "      <td>...</td>\n",
       "      <td>...</td>\n",
       "      <td>...</td>\n",
       "      <td>...</td>\n",
       "      <td>...</td>\n",
       "      <td>...</td>\n",
       "      <td>...</td>\n",
       "    </tr>\n",
       "    <tr>\n",
       "      <th>4899</th>\n",
       "      <td>False</td>\n",
       "      <td>False</td>\n",
       "      <td>False</td>\n",
       "      <td>False</td>\n",
       "      <td>False</td>\n",
       "      <td>False</td>\n",
       "      <td>False</td>\n",
       "      <td>False</td>\n",
       "      <td>False</td>\n",
       "      <td>False</td>\n",
       "      <td>...</td>\n",
       "      <td>False</td>\n",
       "      <td>False</td>\n",
       "      <td>False</td>\n",
       "      <td>False</td>\n",
       "      <td>False</td>\n",
       "      <td>False</td>\n",
       "      <td>False</td>\n",
       "      <td>False</td>\n",
       "      <td>False</td>\n",
       "      <td>False</td>\n",
       "    </tr>\n",
       "    <tr>\n",
       "      <th>4977</th>\n",
       "      <td>False</td>\n",
       "      <td>False</td>\n",
       "      <td>False</td>\n",
       "      <td>False</td>\n",
       "      <td>False</td>\n",
       "      <td>False</td>\n",
       "      <td>False</td>\n",
       "      <td>False</td>\n",
       "      <td>False</td>\n",
       "      <td>False</td>\n",
       "      <td>...</td>\n",
       "      <td>False</td>\n",
       "      <td>False</td>\n",
       "      <td>False</td>\n",
       "      <td>False</td>\n",
       "      <td>False</td>\n",
       "      <td>False</td>\n",
       "      <td>False</td>\n",
       "      <td>False</td>\n",
       "      <td>False</td>\n",
       "      <td>False</td>\n",
       "    </tr>\n",
       "    <tr>\n",
       "      <th>5005</th>\n",
       "      <td>False</td>\n",
       "      <td>False</td>\n",
       "      <td>False</td>\n",
       "      <td>False</td>\n",
       "      <td>False</td>\n",
       "      <td>False</td>\n",
       "      <td>False</td>\n",
       "      <td>False</td>\n",
       "      <td>False</td>\n",
       "      <td>False</td>\n",
       "      <td>...</td>\n",
       "      <td>False</td>\n",
       "      <td>False</td>\n",
       "      <td>False</td>\n",
       "      <td>False</td>\n",
       "      <td>False</td>\n",
       "      <td>False</td>\n",
       "      <td>False</td>\n",
       "      <td>False</td>\n",
       "      <td>False</td>\n",
       "      <td>False</td>\n",
       "    </tr>\n",
       "    <tr>\n",
       "      <th>4946</th>\n",
       "      <td>False</td>\n",
       "      <td>False</td>\n",
       "      <td>False</td>\n",
       "      <td>False</td>\n",
       "      <td>False</td>\n",
       "      <td>False</td>\n",
       "      <td>False</td>\n",
       "      <td>False</td>\n",
       "      <td>False</td>\n",
       "      <td>False</td>\n",
       "      <td>...</td>\n",
       "      <td>False</td>\n",
       "      <td>False</td>\n",
       "      <td>False</td>\n",
       "      <td>False</td>\n",
       "      <td>False</td>\n",
       "      <td>False</td>\n",
       "      <td>False</td>\n",
       "      <td>False</td>\n",
       "      <td>False</td>\n",
       "      <td>False</td>\n",
       "    </tr>\n",
       "    <tr>\n",
       "      <th>4971</th>\n",
       "      <td>False</td>\n",
       "      <td>False</td>\n",
       "      <td>False</td>\n",
       "      <td>False</td>\n",
       "      <td>False</td>\n",
       "      <td>False</td>\n",
       "      <td>False</td>\n",
       "      <td>False</td>\n",
       "      <td>False</td>\n",
       "      <td>False</td>\n",
       "      <td>...</td>\n",
       "      <td>False</td>\n",
       "      <td>False</td>\n",
       "      <td>False</td>\n",
       "      <td>False</td>\n",
       "      <td>False</td>\n",
       "      <td>False</td>\n",
       "      <td>False</td>\n",
       "      <td>False</td>\n",
       "      <td>False</td>\n",
       "      <td>False</td>\n",
       "    </tr>\n",
       "  </tbody>\n",
       "</table>\n",
       "<p>156 rows × 52 columns</p>\n",
       "</div>"
      ],
      "text/plain": [
       "      week_2  week_3  week_4  week_5  week_6  week_7  week_8  week_9  week_10  \\\n",
       "4911   False   False   False   False   False   False   False   False    False   \n",
       "4975   False   False   False   False   False   False   False   False    False   \n",
       "4966   False   False   False   False   False   False   False   False    False   \n",
       "4917   False   False   False   False   False   False   False   False    False   \n",
       "5020   False   False   False   False   False   False   False   False    False   \n",
       "...      ...     ...     ...     ...     ...     ...     ...     ...      ...   \n",
       "4899   False   False   False   False   False   False   False   False    False   \n",
       "4977   False   False   False   False   False   False   False   False    False   \n",
       "5005   False   False   False   False   False   False   False   False    False   \n",
       "4946   False   False   False   False   False   False   False   False    False   \n",
       "4971   False   False   False   False   False   False   False   False    False   \n",
       "\n",
       "      week_11  ...  week_44  week_45  week_46  week_47  week_48  week_49  \\\n",
       "4911    False  ...    False    False    False    False    False    False   \n",
       "4975    False  ...     True    False    False    False    False    False   \n",
       "4966    False  ...    False     True    False    False    False    False   \n",
       "4917    False  ...    False    False     True    False    False    False   \n",
       "5020    False  ...    False    False    False     True    False    False   \n",
       "...       ...  ...      ...      ...      ...      ...      ...      ...   \n",
       "4899    False  ...    False    False    False    False    False    False   \n",
       "4977    False  ...    False    False    False    False    False    False   \n",
       "5005    False  ...    False    False    False    False    False    False   \n",
       "4946    False  ...    False    False    False    False    False    False   \n",
       "4971    False  ...    False    False    False    False    False    False   \n",
       "\n",
       "      week_50  week_51  week_52  week_53  \n",
       "4911    False    False    False    False  \n",
       "4975    False    False    False    False  \n",
       "4966    False    False    False    False  \n",
       "4917    False    False    False    False  \n",
       "5020    False    False    False    False  \n",
       "...       ...      ...      ...      ...  \n",
       "4899    False    False    False    False  \n",
       "4977    False    False    False    False  \n",
       "5005    False    False    False    False  \n",
       "4946    False    False    False    False  \n",
       "4971    False    False    False    False  \n",
       "\n",
       "[156 rows x 52 columns]"
      ]
     },
     "execution_count": 89,
     "metadata": {},
     "output_type": "execute_result"
    }
   ],
   "source": [
    "pd.get_dummies(corr_df['time_var'].dt.isocalendar().week, drop_first=True, prefix=\"week\")"
   ]
  },
  {
   "cell_type": "code",
   "execution_count": 93,
   "id": "34350d7e-19fe-4ee3-acad-227d583d770e",
   "metadata": {},
   "outputs": [
    {
     "data": {
      "text/plain": [
       "4911    43\n",
       "4975    44\n",
       "4966    45\n",
       "4917    46\n",
       "5020    47\n",
       "        ..\n",
       "4899    37\n",
       "4977    38\n",
       "5005    39\n",
       "4946    40\n",
       "4971    41\n",
       "Name: week, Length: 156, dtype: UInt32"
      ]
     },
     "execution_count": 93,
     "metadata": {},
     "output_type": "execute_result"
    }
   ],
   "source": [
    "corr_df['time_var'].dt.isocalendar().week"
   ]
  },
  {
   "cell_type": "code",
   "execution_count": 76,
   "id": "32b8dfef-7e90-45fe-af82-e8ffd0dca51c",
   "metadata": {},
   "outputs": [
    {
     "data": {
      "text/html": [
       "<div>\n",
       "<style scoped>\n",
       "    .dataframe tbody tr th:only-of-type {\n",
       "        vertical-align: middle;\n",
       "    }\n",
       "\n",
       "    .dataframe tbody tr th {\n",
       "        vertical-align: top;\n",
       "    }\n",
       "\n",
       "    .dataframe thead th {\n",
       "        text-align: right;\n",
       "    }\n",
       "</style>\n",
       "<table border=\"1\" class=\"dataframe\">\n",
       "  <thead>\n",
       "    <tr style=\"text-align: right;\">\n",
       "      <th></th>\n",
       "      <th>prod_code</th>\n",
       "      <th>customer</th>\n",
       "      <th>location</th>\n",
       "      <th>category</th>\n",
       "      <th>time_var</th>\n",
       "      <th>shipments</th>\n",
       "      <th>month</th>\n",
       "    </tr>\n",
       "  </thead>\n",
       "  <tbody>\n",
       "    <tr>\n",
       "      <th>4911</th>\n",
       "      <td>5069_01</td>\n",
       "      <td>Mercadona</td>\n",
       "      <td>sansebastian</td>\n",
       "      <td>snack</td>\n",
       "      <td>2020-10-19 00:00:00+00:00</td>\n",
       "      <td>424899</td>\n",
       "      <td>10</td>\n",
       "    </tr>\n",
       "    <tr>\n",
       "      <th>4975</th>\n",
       "      <td>5069_01</td>\n",
       "      <td>Mercadona</td>\n",
       "      <td>sansebastian</td>\n",
       "      <td>snack</td>\n",
       "      <td>2020-10-26 00:00:00+00:00</td>\n",
       "      <td>540495</td>\n",
       "      <td>10</td>\n",
       "    </tr>\n",
       "    <tr>\n",
       "      <th>4966</th>\n",
       "      <td>5069_01</td>\n",
       "      <td>Mercadona</td>\n",
       "      <td>sansebastian</td>\n",
       "      <td>snack</td>\n",
       "      <td>2020-11-02 00:00:00+00:00</td>\n",
       "      <td>452246</td>\n",
       "      <td>11</td>\n",
       "    </tr>\n",
       "    <tr>\n",
       "      <th>4917</th>\n",
       "      <td>5069_01</td>\n",
       "      <td>Mercadona</td>\n",
       "      <td>sansebastian</td>\n",
       "      <td>snack</td>\n",
       "      <td>2020-11-09 00:00:00+00:00</td>\n",
       "      <td>462442</td>\n",
       "      <td>11</td>\n",
       "    </tr>\n",
       "    <tr>\n",
       "      <th>5020</th>\n",
       "      <td>5069_01</td>\n",
       "      <td>Mercadona</td>\n",
       "      <td>sansebastian</td>\n",
       "      <td>snack</td>\n",
       "      <td>2020-11-16 00:00:00+00:00</td>\n",
       "      <td>516311</td>\n",
       "      <td>11</td>\n",
       "    </tr>\n",
       "    <tr>\n",
       "      <th>...</th>\n",
       "      <td>...</td>\n",
       "      <td>...</td>\n",
       "      <td>...</td>\n",
       "      <td>...</td>\n",
       "      <td>...</td>\n",
       "      <td>...</td>\n",
       "      <td>...</td>\n",
       "    </tr>\n",
       "    <tr>\n",
       "      <th>4899</th>\n",
       "      <td>5069_01</td>\n",
       "      <td>Mercadona</td>\n",
       "      <td>sansebastian</td>\n",
       "      <td>snack</td>\n",
       "      <td>2023-09-11 00:00:00+00:00</td>\n",
       "      <td>333641</td>\n",
       "      <td>9</td>\n",
       "    </tr>\n",
       "    <tr>\n",
       "      <th>4977</th>\n",
       "      <td>5069_01</td>\n",
       "      <td>Mercadona</td>\n",
       "      <td>sansebastian</td>\n",
       "      <td>snack</td>\n",
       "      <td>2023-09-18 00:00:00+00:00</td>\n",
       "      <td>278923</td>\n",
       "      <td>9</td>\n",
       "    </tr>\n",
       "    <tr>\n",
       "      <th>5005</th>\n",
       "      <td>5069_01</td>\n",
       "      <td>Mercadona</td>\n",
       "      <td>sansebastian</td>\n",
       "      <td>snack</td>\n",
       "      <td>2023-09-25 00:00:00+00:00</td>\n",
       "      <td>224332</td>\n",
       "      <td>9</td>\n",
       "    </tr>\n",
       "    <tr>\n",
       "      <th>4946</th>\n",
       "      <td>5069_01</td>\n",
       "      <td>Mercadona</td>\n",
       "      <td>sansebastian</td>\n",
       "      <td>snack</td>\n",
       "      <td>2023-10-02 00:00:00+00:00</td>\n",
       "      <td>205503</td>\n",
       "      <td>10</td>\n",
       "    </tr>\n",
       "    <tr>\n",
       "      <th>4971</th>\n",
       "      <td>5069_01</td>\n",
       "      <td>Mercadona</td>\n",
       "      <td>sansebastian</td>\n",
       "      <td>snack</td>\n",
       "      <td>2023-10-09 00:00:00+00:00</td>\n",
       "      <td>77657</td>\n",
       "      <td>10</td>\n",
       "    </tr>\n",
       "  </tbody>\n",
       "</table>\n",
       "<p>156 rows × 7 columns</p>\n",
       "</div>"
      ],
      "text/plain": [
       "     prod_code   customer      location category                  time_var  \\\n",
       "4911   5069_01  Mercadona  sansebastian    snack 2020-10-19 00:00:00+00:00   \n",
       "4975   5069_01  Mercadona  sansebastian    snack 2020-10-26 00:00:00+00:00   \n",
       "4966   5069_01  Mercadona  sansebastian    snack 2020-11-02 00:00:00+00:00   \n",
       "4917   5069_01  Mercadona  sansebastian    snack 2020-11-09 00:00:00+00:00   \n",
       "5020   5069_01  Mercadona  sansebastian    snack 2020-11-16 00:00:00+00:00   \n",
       "...        ...        ...           ...      ...                       ...   \n",
       "4899   5069_01  Mercadona  sansebastian    snack 2023-09-11 00:00:00+00:00   \n",
       "4977   5069_01  Mercadona  sansebastian    snack 2023-09-18 00:00:00+00:00   \n",
       "5005   5069_01  Mercadona  sansebastian    snack 2023-09-25 00:00:00+00:00   \n",
       "4946   5069_01  Mercadona  sansebastian    snack 2023-10-02 00:00:00+00:00   \n",
       "4971   5069_01  Mercadona  sansebastian    snack 2023-10-09 00:00:00+00:00   \n",
       "\n",
       "      shipments  month  \n",
       "4911     424899     10  \n",
       "4975     540495     10  \n",
       "4966     452246     11  \n",
       "4917     462442     11  \n",
       "5020     516311     11  \n",
       "...         ...    ...  \n",
       "4899     333641      9  \n",
       "4977     278923      9  \n",
       "5005     224332      9  \n",
       "4946     205503     10  \n",
       "4971      77657     10  \n",
       "\n",
       "[156 rows x 7 columns]"
      ]
     },
     "execution_count": 76,
     "metadata": {},
     "output_type": "execute_result"
    }
   ],
   "source": [
    "corr_df"
   ]
  },
  {
   "cell_type": "code",
   "execution_count": null,
   "id": "03aa21cb-c044-4854-b165-0452c254689f",
   "metadata": {},
   "outputs": [],
   "source": []
  }
 ],
 "metadata": {
  "kernelspec": {
   "display_name": "Python 3 (ipykernel)",
   "language": "python",
   "name": "python3"
  },
  "language_info": {
   "codemirror_mode": {
    "name": "ipython",
    "version": 3
   },
   "file_extension": ".py",
   "mimetype": "text/x-python",
   "name": "python",
   "nbconvert_exporter": "python",
   "pygments_lexer": "ipython3",
   "version": "3.10.13"
  }
 },
 "nbformat": 4,
 "nbformat_minor": 5
}
